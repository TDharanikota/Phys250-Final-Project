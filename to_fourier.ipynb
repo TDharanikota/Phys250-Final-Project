{
 "cells": [
  {
   "cell_type": "code",
   "execution_count": 30,
   "metadata": {},
   "outputs": [
    {
     "name": "stderr",
     "output_type": "stream",
     "text": [
      "c:\\users\\tdhar\\anaconda3\\lib\\site-packages\\h5py\\__init__.py:36: FutureWarning: Conversion of the second argument of issubdtype from `float` to `np.floating` is deprecated. In future, it will be treated as `np.float64 == np.dtype(float).type`.\n",
      "  from ._conv import register_converters as _register_converters\n"
     ]
    }
   ],
   "source": [
    "import pickle\n",
    "import numpy as np\n",
    "import cv2\n",
    "import matplotlib.pyplot as plt\n",
    "import joblib\n",
    "import itertools\n",
    "import tensorflow as tf"
   ]
  },
  {
   "cell_type": "code",
   "execution_count": 3,
   "metadata": {},
   "outputs": [],
   "source": [
    "def img_to_fourier(img):\n",
    "    dft = cv2.dft(np.float32(img),flags = cv2.DFT_COMPLEX_OUTPUT)\n",
    "    dft_shift = np.fft.fftshift(dft)\n",
    "    magnitude_spectrum = 20*np.log(cv2.magnitude(dft_shift[:,:,0],dft_shift[:,:,1]))\n",
    "    magnitude_spectrum = magnitude_spectrum.astype(int)\n",
    "    \n",
    "    return magnitude_spectrum"
   ]
  },
  {
   "cell_type": "code",
   "execution_count": 4,
   "metadata": {},
   "outputs": [],
   "source": [
    "def data_to_fourier(data):\n",
    "    fourier_data = []\n",
    "    \n",
    "    for img in data:\n",
    "        fourier_img = img_to_fourier(img)\n",
    "        fourier_data.append(fourier_img)\n",
    "        \n",
    "    return np.array(fourier_data)"
   ]
  },
  {
   "cell_type": "code",
   "execution_count": 27,
   "metadata": {},
   "outputs": [
    {
     "name": "stderr",
     "output_type": "stream",
     "text": [
      "c:\\users\\tdhar\\anaconda3\\lib\\site-packages\\ipykernel_launcher.py:4: RuntimeWarning: divide by zero encountered in log\n",
      "  after removing the cwd from sys.path.\n"
     ]
    }
   ],
   "source": [
    "data_sets = ['mnist_blur_0.33.pickle', 'mnist_blur_0.67.pickle', 'mnist_blur_1.pickle', \n",
    "             'mnist_rotation_0.33.pickle', 'mnist_rotation_0.67.pickle', 'mnist_rotation_1.pickle']\n",
    "for data_set in data_sets:\n",
    "    NAME = 'fourier_{}'.format(data_set)\n",
    "    \n",
    "    infile = open(data_set,'rb')\n",
    "    data_import = pickle.load(infile)\n",
    "    infile.close()\n",
    "    \n",
    "    X_train = data_import[0]\n",
    "    y_train = data_import[1]\n",
    "    X_test  = data_import[2]\n",
    "    y_test  = data_import[3]\n",
    "    \n",
    "    \n",
    "    X_train_fourier = data_to_fourier(X_train)\n",
    "    X_test_fourier  = data_to_fourier(X_test)\n",
    "    \n",
    "    total = [X_train_fourier, y_train, X_test_fourier, y_test]\n",
    "    \n",
    "    outfile = open(NAME, 'wb')\n",
    "    pickle.dump(total, outfile)\n",
    "    outfile.close()"
   ]
  },
  {
   "cell_type": "code",
   "execution_count": 31,
   "metadata": {},
   "outputs": [
    {
     "name": "stderr",
     "output_type": "stream",
     "text": [
      "c:\\users\\tdhar\\anaconda3\\lib\\site-packages\\ipykernel_launcher.py:4: RuntimeWarning: divide by zero encountered in log\n",
      "  after removing the cwd from sys.path.\n"
     ]
    }
   ],
   "source": [
    "mnist = tf.keras.datasets.mnist\n",
    "\n",
    "(base_X_train, base_y_train),(base_X_test, base_y_test) = mnist.load_data()\n",
    "\n",
    "base_X_train_fourier = data_to_fourier(base_X_train)\n",
    "base_X_test_fourier  = data_to_fourier(base_X_test)\n",
    "\n",
    "base_total = [base_X_train_fourier, base_y_train, base_X_test_fourier, base_y_test]\n",
    "\n",
    "outfile = open('base_fourier', 'wb')\n",
    "pickle.dump(base_total, outfile)\n",
    "outfile.close()"
   ]
  },
  {
   "cell_type": "code",
   "execution_count": null,
   "metadata": {},
   "outputs": [],
   "source": []
  }
 ],
 "metadata": {
  "kernelspec": {
   "display_name": "Python 3",
   "language": "python",
   "name": "python3"
  },
  "language_info": {
   "codemirror_mode": {
    "name": "ipython",
    "version": 3
   },
   "file_extension": ".py",
   "mimetype": "text/x-python",
   "name": "python",
   "nbconvert_exporter": "python",
   "pygments_lexer": "ipython3",
   "version": "3.6.4"
  }
 },
 "nbformat": 4,
 "nbformat_minor": 2
}
